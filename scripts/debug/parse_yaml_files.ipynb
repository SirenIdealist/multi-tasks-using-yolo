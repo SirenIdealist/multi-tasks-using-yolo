{
 "cells": [
  {
   "cell_type": "code",
   "execution_count": 16,
   "id": "252c8387",
   "metadata": {},
   "outputs": [
    {
     "name": "stdout",
     "output_type": "stream",
     "text": [
      "{'path': '/data/tomato_peduncle', 'train': 'images/train', 'val': 'images/val', 'labels_list': ['detection_keypoints', 'detection_peduncle', 'segmentation_instance'], 'names': {0: 'tomato_peduncle', 1: 'Mtop', 2: 'Jp', 3: 'Mbut', 4: 'Pu'}}\n"
     ]
    }
   ],
   "source": [
    "# parse dataset configuration file (dict type)\n",
    "import yaml\n",
    "\n",
    "config_file = '/home/ubuntu/repos/multi-tasks-using-yolo/ultralytics/cfg/datasets/tomato_peduncle/tomato_peduncle_multi_tasks_model_datasets.yaml'\n",
    "\n",
    "with open(config_file, 'r', encoding='utf-8') as f:\n",
    "    config = yaml.safe_load(f)\n",
    "print(config)"
   ]
  },
  {
   "cell_type": "code",
   "execution_count": 17,
   "id": "7c8ff8f0",
   "metadata": {},
   "outputs": [
    {
     "name": "stdout",
     "output_type": "stream",
     "text": [
      "path: /data/tomato_peduncle\n",
      "train: images/train\n",
      "val: images/val\n",
      "labels_list: ['detection_keypoints', 'detection_peduncle', 'segmentation_instance']\n",
      "names:\n",
      "  0: tomato_peduncle\n",
      "  1: Mtop\n",
      "  2: Jp\n",
      "  3: Mbut\n",
      "  4: Pu\n"
     ]
    }
   ],
   "source": [
    "# parse dataset configuration file (yaml type)\n",
    "import yaml\n",
    "\n",
    "config_file = '/home/ubuntu/repos/multi-tasks-using-yolo/ultralytics/cfg/datasets/tomato_peduncle/tomato_peduncle_multi_tasks_model_datasets.yaml'\n",
    "\n",
    "with open(config_file, 'r', encoding='utf-8') as f:\n",
    "    config = yaml.safe_load(f)\n",
    "\n",
    "def print_dict(d, indent=0):\n",
    "    for key, value in d.items():\n",
    "        if isinstance(value, dict):\n",
    "            print(' ' * indent + f\"{key}:\")\n",
    "            print_dict(value, indent + 2)\n",
    "        else:\n",
    "            print(' ' * indent + f\"{key}: {value}\")\n",
    "\n",
    "print_dict(config)"
   ]
  }
 ],
 "metadata": {
  "kernelspec": {
   "display_name": "yolov8-mtl",
   "language": "python",
   "name": "python3"
  },
  "language_info": {
   "codemirror_mode": {
    "name": "ipython",
    "version": 3
   },
   "file_extension": ".py",
   "mimetype": "text/x-python",
   "name": "python",
   "nbconvert_exporter": "python",
   "pygments_lexer": "ipython3",
   "version": "3.10.18"
  }
 },
 "nbformat": 4,
 "nbformat_minor": 5
}
